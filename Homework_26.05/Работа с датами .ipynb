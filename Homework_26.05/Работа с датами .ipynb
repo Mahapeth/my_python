{
 "cells": [
  {
   "cell_type": "code",
   "execution_count": 16,
   "metadata": {},
   "outputs": [
    {
     "name": "stdout",
     "output_type": "stream",
     "text": [
      "Задание 1: Строка 'May 9 2017 9:00AM' в формате datetime: \n",
      "2017-05-09 09:00:00\n"
     ]
    },
    {
     "data": {
      "text/plain": [
       "9"
      ]
     },
     "execution_count": 16,
     "metadata": {},
     "output_type": "execute_result"
    }
   ],
   "source": [
    "print(\"Задание 1: Строка 'May 9 2017 9:00AM' в формате datetime: \")\n",
    "from datetime import datetime, timedelta\n",
    "dateString = 'May 9 2017 9:00AM'\n",
    "date = datetime.strptime(dateString, '%b %d %Y %I:%M%p')\n",
    "print(date)\n",
    "date.hour"
   ]
  },
  {
   "cell_type": "code",
   "execution_count": 17,
   "metadata": {},
   "outputs": [
    {
     "name": "stdout",
     "output_type": "stream",
     "text": [
      "Задание 2: Прибавляем час к 'May 9 2017 9:00AM' \n"
     ]
    },
    {
     "data": {
      "text/plain": [
       "datetime.datetime(2017, 5, 9, 10, 0)"
      ]
     },
     "execution_count": 17,
     "metadata": {},
     "output_type": "execute_result"
    }
   ],
   "source": [
    "print(\"Задание 2: Прибавляем час к 'May 9 2017 9:00AM' \")\n",
    "date += timedelta(hours=1)\n",
    "date"
   ]
  },
  {
   "cell_type": "code",
   "execution_count": 18,
   "metadata": {},
   "outputs": [
    {
     "name": "stdout",
     "output_type": "stream",
     "text": [
      "Задание 3: Записываем  результат предыдущего задания в формате '%Y-%m-%d' 2017-05-09\n"
     ]
    }
   ],
   "source": [
    "dateString1 = date.strftime('%Y-%m-%d')\n",
    "print(\"Задание 3: Записываем  результат предыдущего задания в формате '%Y-%m-%d'\", dateString1)"
   ]
  },
  {
   "cell_type": "code",
   "execution_count": 22,
   "metadata": {},
   "outputs": [
    {
     "name": "stdout",
     "output_type": "stream",
     "text": [
      "Задание 4:\n",
      "Последним значением для 2 января будет:  2018-01-02 23:00:00\n"
     ]
    }
   ],
   "source": [
    "print(\"Задание 4:\")\n",
    "spisok=[]\n",
    "start = '2018-01-01'\n",
    "end = '2018-01-03'\n",
    "startDate = datetime.strptime(start, '%Y-%m-%d')\n",
    "endDate = datetime.strptime(end, '%Y-%m-%d')\n",
    "day = startDate\n",
    "day = startDate\n",
    "while day <= endDate:\n",
    "    spisok.append(day.strftime('%Y-%m-%d %H:%M:%S'))\n",
    "    day += timedelta(hours=1)\n",
    "print('Последним значением для 2 января будет: ',spisok[47])"
   ]
  },
  {
   "cell_type": "code",
   "execution_count": 24,
   "metadata": {},
   "outputs": [],
   "source": [
    "from datetime import datetime\n",
    "import pandas as pd\n",
    "import time\n",
    "data = pd.read_csv('https://raw.githubusercontent.com/dm-fedorov/pandas_basic/master/data/data.tsv', sep='\\t')"
   ]
  },
  {
   "cell_type": "code",
   "execution_count": 31,
   "metadata": {},
   "outputs": [
    {
     "name": "stdout",
     "output_type": "stream",
     "text": [
      "Задание: Среднее значение столбца diff после фильтрации в секундах:  301143.21428571426\n",
      "Количество дней:  3.5\n"
     ]
    }
   ],
   "source": [
    "def convert_to_datetime(row):\n",
    "    return datetime.strptime(row['date'], '%d.%m.%Y %H:%M')\n",
    "def make_unix_time(row):\n",
    "    return time.mktime(row['datetime'].timetuple())\n",
    "data['datetime'] = data.apply(convert_to_datetime, axis=1)\n",
    "data['unixtime'] = data.apply(make_unix_time, axis=1)\n",
    "groupping = data.groupby([\"user_id\"]).agg([\"min\",\"max\"]).unixtime\n",
    "def v(row):\n",
    "    return row['max'] - row['min']\n",
    "groupping['diff'] = groupping .apply(v, axis = 1) \n",
    "groupping = groupping[groupping['diff'] != 0]\n",
    "days = round(groupping[\"diff\"].mean() / 86400,1)\n",
    "print(\"Задание:\\n Среднее значение столбца diff после фильтрации в секундах: \", groupping[\"diff\"].mean())\n",
    "print(\"Количество дней: \", days)"
   ]
  },
  {
   "cell_type": "code",
   "execution_count": null,
   "metadata": {},
   "outputs": [],
   "source": []
  }
 ],
 "metadata": {
  "kernelspec": {
   "display_name": "Python 3",
   "language": "python",
   "name": "python3"
  },
  "language_info": {
   "codemirror_mode": {
    "name": "ipython",
    "version": 3
   },
   "file_extension": ".py",
   "mimetype": "text/x-python",
   "name": "python",
   "nbconvert_exporter": "python",
   "pygments_lexer": "ipython3",
   "version": "3.7.4"
  }
 },
 "nbformat": 4,
 "nbformat_minor": 4
}

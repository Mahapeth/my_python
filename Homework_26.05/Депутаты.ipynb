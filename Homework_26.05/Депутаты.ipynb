{
 "cells": [
  {
   "cell_type": "code",
   "execution_count": 1,
   "metadata": {},
   "outputs": [],
   "source": [
    "import pandas as pd\n",
    "url = \"https://raw.githubusercontent.com/dm-fedorov/pandas_basic/master/data/deputat.csv\"\n",
    "df = pd.read_csv(url)"
   ]
  },
  {
   "cell_type": "code",
   "execution_count": 5,
   "metadata": {},
   "outputs": [
    {
     "name": "stdout",
     "output_type": "stream",
     "text": [
      "Задание 1:\n",
      "Средний возраст депутатов:  57.0\n"
     ]
    }
   ],
   "source": [
    "from datetime import datetime, timedelta\n",
    "df['time_birth'] = df.apply(lambda row: datetime.strptime(row['birthdate'], '%d.%M.%Y'), axis = 1)\n",
    "print('Задание 1:\\nСредний возраст депутатов: ', round(df.apply(lambda row: pd.Timedelta(datetime.now() - row['time_birth']).days/365, axis = 1).mean(),0))"
   ]
  },
  {
   "cell_type": "code",
   "execution_count": 12,
   "metadata": {},
   "outputs": [
    {
     "name": "stdout",
     "output_type": "stream",
     "text": [
      "Задание 2:\n",
      "Гендерное процентное соотношение состава депутатов: \n"
     ]
    },
    {
     "data": {
      "text/plain": [
       "м    84.834123\n",
       "ж    15.165877\n",
       "Name: gender, dtype: float64"
      ]
     },
     "execution_count": 12,
     "metadata": {},
     "output_type": "execute_result"
    }
   ],
   "source": [
    "print(\"Задание 2:\\nГендерное процентное соотношение состава депутатов: \")\n",
    "(df['gender'].value_counts()/df['gender'].count())*100"
   ]
  },
  {
   "cell_type": "code",
   "execution_count": null,
   "metadata": {},
   "outputs": [],
   "source": []
  }
 ],
 "metadata": {
  "kernelspec": {
   "display_name": "Python 3",
   "language": "python",
   "name": "python3"
  },
  "language_info": {
   "codemirror_mode": {
    "name": "ipython",
    "version": 3
   },
   "file_extension": ".py",
   "mimetype": "text/x-python",
   "name": "python",
   "nbconvert_exporter": "python",
   "pygments_lexer": "ipython3",
   "version": "3.7.4"
  }
 },
 "nbformat": 4,
 "nbformat_minor": 4
}

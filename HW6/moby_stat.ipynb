{
 "cells": [
  {
   "cell_type": "code",
   "execution_count": 3,
   "metadata": {},
   "outputs": [
    {
     "name": "stdout",
     "output_type": "stream",
     "text": [
      "['and\\n', 'i\\n', 'i\\n', 'a\\n', 'the\\n', 'call\\n', 'ishmael\\n', 'years\\n', 'agonever\\n', 'mind\\n']\n"
     ]
    }
   ],
   "source": [
    "with open (\"moby_clean.txt\", \"r\") as file:\n",
    "    spisok = file.readlines()\n",
    "    dictionary = {i: spisok.count(i) for i in spisok}\n",
    "    a = sorted(list(dictionary.values()))\n",
    "    minimum = a[-5:]\n",
    "    maximum = a[:5]\n",
    "    funcmin =[i for i in spisok if dictionary[i] == minimum[0] or dictionary[i] == minimum[1] or dictionary[i] == minimum[2] or dictionary[i] == minimum[3] or dictionary[i] == minimum[4]][:5]\n",
    "    funcmax = [i for i in spisok if dictionary[i] == maximum[0] or dictionary[i] == maximum[1] or dictionary[i] == maximum[2] or dictionary[i] == maximum[3] or dictionary[i] == maximum[4]][:5]\n",
    "    print(funcmin+funcmax)"
   ]
  },
  {
   "cell_type": "code",
   "execution_count": null,
   "metadata": {},
   "outputs": [],
   "source": []
  }
 ],
 "metadata": {
  "kernelspec": {
   "display_name": "Python 3",
   "language": "python",
   "name": "python3"
  },
  "language_info": {
   "codemirror_mode": {
    "name": "ipython",
    "version": 3
   },
   "file_extension": ".py",
   "mimetype": "text/x-python",
   "name": "python",
   "nbconvert_exporter": "python",
   "pygments_lexer": "ipython3",
   "version": "3.7.4"
  }
 },
 "nbformat": 4,
 "nbformat_minor": 4
}

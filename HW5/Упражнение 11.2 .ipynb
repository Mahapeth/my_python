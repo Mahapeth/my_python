{
 "cells": [
  {
   "cell_type": "code",
   "execution_count": 3,
   "metadata": {},
   "outputs": [],
   "source": [
    "class Character:\n",
    "    s=0\n",
    "    animate = [ \"AnimateStay \", \"AnimateRun \", \"AnimateShoot \", \"AnimateObject \", \"AnimateFlying \"]\n",
    "    def __init__(self, name = 'Персонаж без имени', x = 0, y = 0, power = 50, speed = 15, objects = 1):\n",
    "        self.__name = name\n",
    "        self._x = x\n",
    "        self._y = y\n",
    "        self._power = power\n",
    "        self._speed = speed\n",
    "        self._objects = objects\n",
    "        Character.s += 1\n",
    "        print(f'Создался новый персонаж {self.__name}: {Character.animate[0]}')\n",
    "    def running(self, delta_x=1, delta_y=1):\n",
    "        self._x += delta_x\n",
    "        self._y += delta_y\n",
    "        print(f'Персонаж {self.__name} бежит, его координаты {self._x, self._y}: {Character.animate[1]}')\n",
    "    def shooting(self):\n",
    "        print (f'Персонаж {self.__name} выстрелил: {Character.animate[2]}')\n",
    "    def getting_objects(self, object1):\n",
    "        if object1 == 'UpperPower':\n",
    "            self._power *=3\n",
    "        elif object1 == 'UpperSpeed':\n",
    "            self._speed *= 5\n",
    "        else: \n",
    "            self._objects +=1\n",
    "            print(f'Персонаж {self.__name} подобрал предмет {object1}: {Character.animate[3]}')\n",
    "class characterflying (Character):\n",
    "    def __init__(self, name ='Персонаж без имени', x = 0, y = 0, power = 70, speed = 35, objects = 1):\n",
    "        Character.__init__(self, name = name, x = x, y = y, power = power, speed = speed, objects = objects)"
   ]
  },
  {
   "cell_type": "code",
   "execution_count": 4,
   "metadata": {},
   "outputs": [
    {
     "name": "stdout",
     "output_type": "stream",
     "text": [
      "Создался новый персонаж Mariia: AnimateStay \n",
      "Создался новый персонаж Katya: AnimateStay \n",
      "Создался новый персонаж Serezha: AnimateStay \n",
      "Количество персонажей: 3\n",
      "Скорость обычного персонажа: 15\n",
      "Скорость летающего персонажа: 35\n",
      "Персонаж Mariia выстрелил: AnimateShoot \n",
      "Персонаж Serezha бежит, его координаты (6, 8): AnimateRun \n",
      "Персонаж Katya бежит, его координаты (7, 10): AnimateRun \n",
      "Персонаж Mariia подобрал предмет table: AnimateObject \n"
     ]
    },
    {
     "data": {
      "text/plain": [
       "75"
      ]
     },
     "execution_count": 4,
     "metadata": {},
     "output_type": "execute_result"
    }
   ],
   "source": [
    "character1 = Character('Mariia')\n",
    "character2 = characterflying('Katya',1,2)\n",
    "character3 = Character('Serezha')\n",
    "print(f'Количество персонажей: {Character.s}')\n",
    "\n",
    "print(f'Скорость обычного персонажа: {character1._speed}')\n",
    "print(f'Скорость летающего персонажа: {character2._speed}')\n",
    "\n",
    "character1.shooting()\n",
    "character3.running(6,8)\n",
    "\n",
    "character2.running(6,8)\n",
    "\n",
    "character1.getting_objects('table')\n",
    "character1._objects\n",
    "\n",
    "character1.getting_objects('UpperSpeed')\n",
    "character1._speed"
   ]
  },
  {
   "cell_type": "code",
   "execution_count": null,
   "metadata": {},
   "outputs": [],
   "source": []
  }
 ],
 "metadata": {
  "kernelspec": {
   "display_name": "Python 3",
   "language": "python",
   "name": "python3"
  },
  "language_info": {
   "codemirror_mode": {
    "name": "ipython",
    "version": 3
   },
   "file_extension": ".py",
   "mimetype": "text/x-python",
   "name": "python",
   "nbconvert_exporter": "python",
   "pygments_lexer": "ipython3",
   "version": "3.7.4"
  }
 },
 "nbformat": 4,
 "nbformat_minor": 4
}

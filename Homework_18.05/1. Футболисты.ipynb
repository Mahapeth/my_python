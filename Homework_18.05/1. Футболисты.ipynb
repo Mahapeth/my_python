{
 "cells": [
  {
   "cell_type": "code",
   "execution_count": 2,
   "metadata": {},
   "outputs": [],
   "source": [
    "import pandas as pd\n",
    "url = \"https://raw.githubusercontent.com/dm-fedorov/pandas_basic/master/data/football.csv\"\n",
    "football = pd.read_csv(url)"
   ]
  },
  {
   "cell_type": "code",
   "execution_count": 3,
   "metadata": {},
   "outputs": [
    {
     "name": "stdout",
     "output_type": "stream",
     "text": [
      "Задание 1: Средний возраст футболистов:  25\n"
     ]
    }
   ],
   "source": [
    "print(\"Задание 1: Средний возраст футболистов: \", round(football['Age'].mean()))"
   ]
  },
  {
   "cell_type": "code",
   "execution_count": 4,
   "metadata": {},
   "outputs": [
    {
     "name": "stdout",
     "output_type": "stream",
     "text": [
      "Задание 2: Количество хладнокровных футболистов:  12897\n"
     ]
    }
   ],
   "source": [
    "print(\"Задание 2: Количество хладнокровных футболистов: \", football['Composure'].count())"
   ]
  },
  {
   "cell_type": "code",
   "execution_count": 5,
   "metadata": {},
   "outputs": [
    {
     "name": "stdout",
     "output_type": "stream",
     "text": [
      "Задание 3: Стандартное отклонение:  14.74\n"
     ]
    }
   ],
   "source": [
    "print(\"Задание 3: Стандартное отклонение: \", round(football['ShortPassing'].std(), 2))"
   ]
  },
  {
   "cell_type": "code",
   "execution_count": 8,
   "metadata": {},
   "outputs": [
    {
     "name": "stdout",
     "output_type": "stream",
     "text": [
      "Задание 4: Сумма заработных плат за год:  96954000\n"
     ]
    }
   ],
   "source": [
    "print(\"Задание 4: Сумма заработных плат за год: \", football['Wage'].sum())"
   ]
  },
  {
   "cell_type": "code",
   "execution_count": 7,
   "metadata": {},
   "outputs": [
    {
     "name": "stdout",
     "output_type": "stream",
     "text": [
      "Задание 5: Минимальная стоимость футболиста:  0\n"
     ]
    }
   ],
   "source": [
    "print(\"Задание 5: Минимальная стоимость футболиста: \", football['Value'].min())"
   ]
  },
  {
   "cell_type": "code",
   "execution_count": 9,
   "metadata": {},
   "outputs": [
    {
     "name": "stdout",
     "output_type": "stream",
     "text": [
      "Задание 1: Средняя скорость с зарплатой выше среднего:  67.57\n"
     ]
    }
   ],
   "source": [
    "print(\"Задание 1: Средняя скорость с зарплатой выше среднего: \", round(football[football.Wage > football.Wage.mean()].SprintSpeed.mean(), 2))"
   ]
  },
  {
   "cell_type": "code",
   "execution_count": 11,
   "metadata": {},
   "outputs": [
    {
     "name": "stdout",
     "output_type": "stream",
     "text": [
      "Задание 2: Средняя скорость с зарплатой ниже среднего:  62.41\n"
     ]
    }
   ],
   "source": [
    "print(\"Задание 2: Средняя скорость с зарплатой ниже среднего: \", round(football[football.Wage < football.Wage.mean()].SprintSpeed.mean(), 2))"
   ]
  },
  {
   "cell_type": "code",
   "execution_count": 12,
   "metadata": {
    "jupyter": {
     "source_hidden": true
    }
   },
   "outputs": [
    {
     "name": "stdout",
     "output_type": "stream",
     "text": [
      "Задание 3: Позиция игрока с самой высокой зарплатой:  RF\n"
     ]
    }
   ],
   "source": [
    "print(\"Задание 3: Позиция игрока с самой высокой зарплатой: \", football[football.Wage == football.Wage.max()]['Position'][0])"
   ]
  },
  {
   "cell_type": "code",
   "execution_count": 13,
   "metadata": {},
   "outputs": [
    {
     "name": "stdout",
     "output_type": "stream",
     "text": [
      "Задание 4: Количество пенальти, которые сделали бразильские футболисты:  22789\n"
     ]
    }
   ],
   "source": [
    "print(\"Задание 4: Количество пенальти, которые сделали бразильские футболисты: \", football[football.Nationality == 'Brazil'].Penalties.sum())"
   ]
  },
  {
   "cell_type": "code",
   "execution_count": 14,
   "metadata": {},
   "outputs": [
    {
     "name": "stdout",
     "output_type": "stream",
     "text": [
      "Задание 5: Средний возраст игроков с точностью удара головой больше 50:  25.59\n"
     ]
    }
   ],
   "source": [
    "print(\"Задание 5: Средний возраст игроков с точностью удара головой больше 50: \", round(football[football.HeadingAccuracy > 50]['Age'].mean(), 2))"
   ]
  },
  {
   "cell_type": "code",
   "execution_count": 16,
   "metadata": {},
   "outputs": [
    {
     "name": "stdout",
     "output_type": "stream",
     "text": [
      "Задание 6: Возраст самого молодого игрока с хладнокровием и реакцией выше 90:  24\n"
     ]
    }
   ],
   "source": [
    "print(\"Задание 6: Возраст самого молодого игрока с хладнокровием и реакцией выше 90: \", football[(football.Composure > football.Composure.max() * 0.9) & (football.Reactions > football.Reactions.max() * 0.9)]['Age'].min())"
   ]
  },
  {
   "cell_type": "code",
   "execution_count": 17,
   "metadata": {},
   "outputs": [
    {
     "name": "stdout",
     "output_type": "stream",
     "text": [
      "Задание 7: Разница в реакции самых старых и самых молодых игроков:  22.64\n"
     ]
    }
   ],
   "source": [
    "print(\"Задание 7: Разница в реакции самых старых и самых молодых игроков: \", round(football[football['Age'] == football['Age'].max()]['Reactions'].mean() - football[football['Age'] == football['Age'].min()]['Reactions'].mean(), 2))"
   ]
  },
  {
   "cell_type": "code",
   "execution_count": 21,
   "metadata": {},
   "outputs": [
    {
     "name": "stdout",
     "output_type": "stream",
     "text": [
      "Задание 8: Страна с игроками, чья стоимость превышает среднее значение:  Zimbabwe\n"
     ]
    }
   ],
   "source": [
    "print(\"Задание 8: Страна с игроками, чья стоимость превышает среднее значение: \", football[football['Value'] > football['Value'].mean()]['Nationality'].max())"
   ]
  },
  {
   "cell_type": "code",
   "execution_count": 22,
   "metadata": {},
   "outputs": [
    {
     "name": "stdout",
     "output_type": "stream",
     "text": [
      "Задание 9: Отношение зарплат у голкиперов с лучшими рефлексами и с лушим владением мячом:  2.77\n"
     ]
    }
   ],
   "source": [
    "print(\"Задание 9: Отношение зарплат у голкиперов с лучшими рефлексами и с лушим владением мячом: \", round(football[(football['Position'] == 'GK') & (football['GKReflexes'] == football['GKReflexes'].max())]['Wage'].mean() /football[(football['Position'] == 'GK') & (football['GKHandling'] == football['GKHandling'].max())]['Wage'].mean(), 2))"
   ]
  },
  {
   "cell_type": "code",
   "execution_count": 24,
   "metadata": {},
   "outputs": [
    {
     "name": "stdout",
     "output_type": "stream",
     "text": [
      "Задание 10: Отношение силы ударов наиболее и наименее агрессивных игроков:  0.69\n"
     ]
    }
   ],
   "source": [
    "print(\"Задание 10: Отношение силы ударов наиболее и наименее агрессивных игроков: \", round(football[football['Aggression'] == football['Aggression'].max()]['ShotPower'].sum() / football[football['Aggression'] == football['Aggression'].min()]['ShotPower'].sum(), 2))"
   ]
  },
  {
   "cell_type": "code",
   "execution_count": null,
   "metadata": {},
   "outputs": [],
   "source": []
  }
 ],
 "metadata": {
  "kernelspec": {
   "display_name": "Python 3",
   "language": "python",
   "name": "python3"
  },
  "language_info": {
   "codemirror_mode": {
    "name": "ipython",
    "version": 3
   },
   "file_extension": ".py",
   "mimetype": "text/x-python",
   "name": "python",
   "nbconvert_exporter": "python",
   "pygments_lexer": "ipython3",
   "version": "3.7.4"
  }
 },
 "nbformat": 4,
 "nbformat_minor": 4
}

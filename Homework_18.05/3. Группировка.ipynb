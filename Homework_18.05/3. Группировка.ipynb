{
 "cells": [
  {
   "cell_type": "code",
   "execution_count": 1,
   "metadata": {},
   "outputs": [],
   "source": [
    "import pandas as pd\n",
    "url = \"https://raw.githubusercontent.com/dm-fedorov/pandas_basic/master/data/football.csv\"\n",
    "football = pd.read_csv(url)"
   ]
  },
  {
   "cell_type": "code",
   "execution_count": 3,
   "metadata": {},
   "outputs": [
    {
     "name": "stdout",
     "output_type": "stream",
     "text": [
      "Задание 1: Средняя запрплата на различных позициях:  RF\n"
     ]
    }
   ],
   "source": [
    "print(\"Задание 1: Средняя запрплата на различных позициях: \", football.groupby(['Position']).mean()['Wage'].sort_values(ascending=False).index[0])"
   ]
  },
  {
   "cell_type": "code",
   "execution_count": 4,
   "metadata": {},
   "outputs": [
    {
     "name": "stdout",
     "output_type": "stream",
     "text": [
      "Задание 1: Средняя запрплата в различных клубах:\n",
      "                                mean  median\n",
      "Club                                      \n",
      " SSV Jahn Regensburg   3750.000000    3500\n",
      "1. FC Heidenheim 1846  3800.000000    3000\n",
      "1. FC Kaiserslautern   1434.782609    1000\n",
      "1. FC Köln             9200.000000    4000\n",
      "1. FC Magdeburg        4000.000000    4000\n",
      "...                            ...     ...\n",
      "Zagłębie Sosnowiec     1080.000000    1000\n",
      "Çaykur Rizespor        5363.636364    4500\n",
      "Örebro SK              1384.615385    1000\n",
      "Östersunds FK          1950.000000    1000\n",
      "Śląsk Wrocław          2083.333333    2000\n",
      "\n",
      "[650 rows x 2 columns]\n"
     ]
    }
   ],
   "source": [
    "print(\"Задание 1: Средняя запрплата в различных клубах:\\n \", football.groupby(['Club']).agg(['mean', 'median'])['Wage'])"
   ]
  },
  {
   "cell_type": "code",
   "execution_count": 6,
   "metadata": {},
   "outputs": [
    {
     "name": "stdout",
     "output_type": "stream",
     "text": [
      "Задание 1: Клубы с одинаковыми средней и медианной зарплатами:\n",
      " ['Shakhtar Donetsk', 'Lokomotiv Moscow', 'Dynamo Kyiv', 'Spartak Moscow', 'PAOK', 'Olympiacos CFP', 'PFC CSKA Moscow', 'AEK Athens', 'Göztepe SK', 'Dinamo Zagreb', 'Kaizer Chiefs', 'Sparta Praha', 'Viktoria Plzeň', 'Benevento', 'SK Slavia Praha', 'Brøndby IF', 'CD Tondela', 'CD Feirense', 'Cruzeiro', 'Panathinaikos FC', 'AJ Auxerre', 'Philadelphia Union', 'Patriotas Boyacá FC', 'Deportivo Pasto', 'Heracles Almelo', 'Pohang Steelers', 'Kashiwa Reysol', '1. FC Magdeburg', 'Stade Brestois 29', 'Sunderland', 'Orlando Pirates', 'Jaguares de Córdoba', 'Jeonnam Dragons', 'Boyacá Chicó FC', 'HJK Helsinki', 'Envigado FC', 'Dundalk', 'FC Energie Cottbus', 'IK Sirius', 'Northampton Town', 'Shamrock Rovers', 'FC Metz', 'Grimsby Town', 'Itagüí Leones FC', 'Trelleborgs FF', \"St. Patrick's Athletic\", 'Cork City', 'IF Brommapojkarna', 'Bohemian FC', 'Sligo Rovers', 'Limerick FC', 'Bray Wanderers'] \n",
      " Их количество:  52\n"
     ]
    }
   ],
   "source": [
    "same_club = []\n",
    "for club in football['Club'].unique():\n",
    "    if football[football['Club'] == club]['Wage'].mean() == football[football['Club'] == club]['Wage'].median():\n",
    "        same_club.append(club)\n",
    "        l = len(same_club)\n",
    "print(\"Задание 1: Клубы с одинаковыми средней и медианной зарплатами:\\n\",same_club,\"\\n\", \"Их количество: \", l)"
   ]
  },
  {
   "cell_type": "code",
   "execution_count": 8,
   "metadata": {},
   "outputs": [
    {
     "name": "stdout",
     "output_type": "stream",
     "text": [
      "Задание 2: Максимальная средняя оплата равна:  13000.0 в клубе Cruzeiro\n"
     ]
    }
   ],
   "source": [
    "clubb = ''\n",
    "wage = 0\n",
    "same_club = []\n",
    "for club in football['Club'].unique():\n",
    "    if football[football['Club'] == club]['Wage'].mean() == football[football['Club'] == club]['Wage'].median():\n",
    "        same_club.append(club)\n",
    "        l = len(same_club)\n",
    "        if football[football['Club'] == club]['Wage'].mean() > wage:\n",
    "            wage = football[football['Club'] == club]['Wage'].mean()\n",
    "            clubb = club\n",
    "print('Задание 2: Максимальная средняя оплата равна: ', wage, 'в клубе', clubb)"
   ]
  },
  {
   "cell_type": "code",
   "execution_count": 9,
   "metadata": {},
   "outputs": [
    {
     "name": "stdout",
     "output_type": "stream",
     "text": [
      "Задача 1: Бюджет Chelsea:  2035000\n"
     ]
    }
   ],
   "source": [
    "print(\"Задача 1: Бюджет Chelsea: \", football.groupby(['Club']).sum().loc['Chelsea']['Wage'])"
   ]
  },
  {
   "cell_type": "code",
   "execution_count": 12,
   "metadata": {},
   "outputs": [
    {
     "name": "stdout",
     "output_type": "stream",
     "text": [
      "Задача 2: Максимальная зарплата футболиста из Аргентины в возрасте 20-ти лет: 54000\n"
     ]
    }
   ],
   "source": [
    "print(\"Задача 2: Максимальная зарплата футболиста из Аргентины в возрасте 20-ти лет:\", football[(football['Nationality'] == 'Argentina') & (football['Age'] == 20)]['Wage'].max())"
   ]
  },
  {
   "cell_type": "code",
   "execution_count": 13,
   "metadata": {},
   "outputs": [
    {
     "name": "stdout",
     "output_type": "stream",
     "text": [
      "Задача 3: Максимальная зарплата футболиста из Аргентины в возрасте 30-ти лет: 300000\n"
     ]
    }
   ],
   "source": [
    "print(\"Задача 3: Максимальная зарплата футболиста из Аргентины в возрасте 30-ти лет:\", football[(football['Nationality'] == 'Argentina') & (football['Age'] == 30)]['Wage'].max())"
   ]
  },
  {
   "cell_type": "code",
   "execution_count": 14,
   "metadata": {},
   "outputs": [
    {
     "name": "stdout",
     "output_type": "stream",
     "text": [
      "Задача 4: Минимальнаяя зарплата футболиста из Аргентины в возрасте 30-ти лет:  1000\n"
     ]
    }
   ],
   "source": [
    "print(\"Задача 4: Минимальнаяя зарплата футболиста из Аргентины в возрасте 30-ти лет: \", football[(football['Nationality'] == 'Argentina') & (football['Age'] == 30)]['Wage'].min())"
   ]
  },
  {
   "cell_type": "code",
   "execution_count": 20,
   "metadata": {},
   "outputs": [
    {
     "name": "stdout",
     "output_type": "stream",
     "text": [
      "Задача 5: Максимальные сила и баланс игроков FC Barcelona:  59 ; 95\n"
     ]
    }
   ],
   "source": [
    "print(\"Задача 5: Максимальные сила и баланс игроков FC Barcelona: \", str(football[(football['Club'] == 'FC Barcelona') & (football['Nationality'] == 'Argentina')]['Strength'][0].max()),\";\",football[(football['Club'] == 'FC Barcelona') & (football['Nationality'] == 'Argentina')]['Balance'].max())"
   ]
  }
 ],
 "metadata": {
  "kernelspec": {
   "display_name": "Python 3",
   "language": "python",
   "name": "python3"
  },
  "language_info": {
   "codemirror_mode": {
    "name": "ipython",
    "version": 3
   },
   "file_extension": ".py",
   "mimetype": "text/x-python",
   "name": "python",
   "nbconvert_exporter": "python",
   "pygments_lexer": "ipython3",
   "version": "3.7.4"
  }
 },
 "nbformat": 4,
 "nbformat_minor": 4
}

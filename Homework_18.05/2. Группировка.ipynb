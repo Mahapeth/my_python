{
 "cells": [
  {
   "cell_type": "code",
   "execution_count": 1,
   "metadata": {},
   "outputs": [],
   "source": [
    "import pandas as pd\n",
    "url = \"https://raw.githubusercontent.com/dm-fedorov/pandas_basic/master/data/football.csv\"\n",
    "football = pd.read_csv(url)"
   ]
  },
  {
   "cell_type": "code",
   "execution_count": 2,
   "metadata": {},
   "outputs": [
    {
     "name": "stdout",
     "output_type": "stream",
     "text": [
      "Количество футбольных клубов:  650\n"
     ]
    }
   ],
   "source": [
    "print(\"Количество футбольных клубов: \", football['Club'].nunique())"
   ]
  },
  {
   "cell_type": "code",
   "execution_count": 22,
   "metadata": {},
   "outputs": [
    {
     "name": "stdout",
     "output_type": "stream",
     "text": [
      "Клуб с наименьшим количеством игроков:\n",
      "  Atlético Mineiro    6\n",
      "Name: Club, dtype: int64\n"
     ]
    }
   ],
   "source": [
    "print(\"Клуб с наименьшим количеством игроков:\\n \", football['Club'].value_counts()[football['Club'].value_counts() == football['Club'].value_counts().min()])"
   ]
  },
  {
   "cell_type": "code",
   "execution_count": 20,
   "metadata": {},
   "outputs": [
    {
     "name": "stdout",
     "output_type": "stream",
     "text": [
      "Позиции игроков, занимающих менее 1%:\n",
      " LS     0.009382\n",
      "RS     0.008839\n",
      "RWB    0.005428\n",
      "LWB    0.004652\n",
      "CF     0.003954\n",
      "LF     0.000620\n",
      "LAM    0.000465\n",
      "RF     0.000465\n",
      "RAM    0.000388\n",
      "Name: Position, dtype: float64\n"
     ]
    }
   ],
   "source": [
    "print(\"Позиции игроков, занимающих менее 1%:\\n\", football['Position'].value_counts(normalize = True)[football['Position'].value_counts(normalize = True) < 0.01])"
   ]
  },
  {
   "cell_type": "code",
   "execution_count": 13,
   "metadata": {},
   "outputs": [
    {
     "name": "stdout",
     "output_type": "stream",
     "text": [
      "Пределы худших 20% показателей точности ударов ногой:  (2.908, 21.2]\n"
     ]
    }
   ],
   "source": [
    "print(\"Пределы худших 20% показателей точности ударов ногой: \", football['FKAccuracy'].value_counts(bins = 5).sort_index().index[0])"
   ]
  },
  {
   "cell_type": "code",
   "execution_count": 14,
   "metadata": {},
   "outputs": [
    {
     "name": "stdout",
     "output_type": "stream",
     "text": [
      "Показатели ударов ногой большинства футболистов:  (21.2, 39.4]\n"
     ]
    }
   ],
   "source": [
    "print(\"Показатели ударов ногой большинства футболистов: \", football['FKAccuracy'].value_counts(bins=5).index[0])"
   ]
  },
  {
   "cell_type": "code",
   "execution_count": 15,
   "metadata": {},
   "outputs": [
    {
     "name": "stdout",
     "output_type": "stream",
     "text": [
      "Задача 1: Количество испанцев с зарплатой не более четверти от максимальной:  12743\n"
     ]
    }
   ],
   "source": [
    "print(\"Задача 1: Количество испанцев с зарплатой не более четверти от максимальной: \", football[football['Wage'] <= football[football['Nationality'] == 'Spain']['Wage'].value_counts(bins=4).index[0].right]['Wage'].count())"
   ]
  },
  {
   "cell_type": "code",
   "execution_count": 16,
   "metadata": {},
   "outputs": [
    {
     "name": "stdout",
     "output_type": "stream",
     "text": [
      "Задача 2: Количество различных национальностей в Manchester United: 13\n"
     ]
    }
   ],
   "source": [
    "print(\"Задача 2: Количество различных национальностей в Manchester United:\", len(football[football['Club'] == 'Manchester United']['Nationality'].unique()))"
   ]
  },
  {
   "cell_type": "code",
   "execution_count": 23,
   "metadata": {},
   "outputs": [
    {
     "name": "stdout",
     "output_type": "stream",
     "text": [
      "Задача 3: Бразильцы, играющие в Juventus:  ['Alex Sandro' 'Douglas Costa']\n"
     ]
    }
   ],
   "source": [
    "print(\"Задача 3: Бразильцы, играющие в Juventus: \", football[(football['Club'] == 'Juventus') & (football['Nationality'] == 'Brazil')]['Name'].unique())"
   ]
  },
  {
   "cell_type": "code",
   "execution_count": 24,
   "metadata": {},
   "outputs": [
    {
     "name": "stdout",
     "output_type": "stream",
     "text": [
      "Задача 4: Клуб с наибольшим числом игроков старше 35 лет:  Sligo Rovers\n"
     ]
    }
   ],
   "source": [
    "footballPlayers = 0\n",
    "club = ''\n",
    "for clubb in football['Club'].unique():\n",
    "    if football[(football['Club'] == clubb) & (football['Age'] > 35)]['Name'].count() > footballPlayers:\n",
    "        footbalPlayers = football[(football['Club'] == club) & (football['Age'] > 35)]['Name'].count()\n",
    "        club = clubb\n",
    "print(\"Задача 4: Клуб с наибольшим числом игроков старше 35 лет: \", club)"
   ]
  },
  {
   "cell_type": "code",
   "execution_count": 26,
   "metadata": {},
   "outputs": [
    {
     "name": "stdout",
     "output_type": "stream",
     "text": [
      "Задача 5: Количество старейших аргентинцев-футболистов:  14\n"
     ]
    }
   ],
   "source": [
    "print(\"Задача 5: Количество старейших аргентинцев-футболистов: \", football[(football['Nationality'] == 'Argentina') & (football['Age'] >= football['Age'].value_counts(bins=4).index[3].left)]['Age'].count())"
   ]
  },
  {
   "cell_type": "code",
   "execution_count": 27,
   "metadata": {},
   "outputs": [
    {
     "name": "stdout",
     "output_type": "stream",
     "text": [
      "Задача 6: Процент футболистов, которым 21 год, от всего испанского состава:  0.12\n"
     ]
    }
   ],
   "source": [
    "print(\"Задача 6: Процент футболистов, которым 21 год, от всего испанского состава: \", round(football[football['Nationality'] == 'Spain']['Age'].value_counts(normalize=True)[21], 2))"
   ]
  },
  {
   "cell_type": "code",
   "execution_count": null,
   "metadata": {},
   "outputs": [],
   "source": []
  }
 ],
 "metadata": {
  "kernelspec": {
   "display_name": "Python 3",
   "language": "python",
   "name": "python3"
  },
  "language_info": {
   "codemirror_mode": {
    "name": "ipython",
    "version": 3
   },
   "file_extension": ".py",
   "mimetype": "text/x-python",
   "name": "python",
   "nbconvert_exporter": "python",
   "pygments_lexer": "ipython3",
   "version": "3.7.4"
  }
 },
 "nbformat": 4,
 "nbformat_minor": 4
}

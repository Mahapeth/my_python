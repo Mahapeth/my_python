{
 "cells": [
  {
   "cell_type": "code",
   "execution_count": 1,
   "metadata": {},
   "outputs": [
    {
     "name": "stdout",
     "output_type": "stream",
     "text": [
      "Простой todo: \n",
      "    1. Добавить задачу.\n",
      "    2. Вывести список задач.\n",
      "    3. Выход.\n"
     ]
    },
    {
     "name": "stdin",
     "output_type": "stream",
     "text": [
      "Укажите число:  1\n",
      "Сформулируйте задачу: \n",
      " купить хлеб\n",
      "Добавьте категорию к задаче: \n",
      " купить\n",
      "Добавьте время к задаче: \n",
      " сегодня\n"
     ]
    },
    {
     "name": "stdout",
     "output_type": "stream",
     "text": [
      "Простой todo: \n",
      "    1. Добавить задачу.\n",
      "    2. Вывести список задач.\n",
      "    3. Выход.\n"
     ]
    },
    {
     "name": "stdin",
     "output_type": "stream",
     "text": [
      "Укажите число:  1\n",
      "Сформулируйте задачу: \n",
      " купить масло\n",
      "Добавьте категорию к задаче: \n",
      " купить\n",
      "Добавьте время к задаче: \n",
      " завтра\n"
     ]
    },
    {
     "name": "stdout",
     "output_type": "stream",
     "text": [
      "Простой todo: \n",
      "    1. Добавить задачу.\n",
      "    2. Вывести список задач.\n",
      "    3. Выход.\n"
     ]
    },
    {
     "name": "stdin",
     "output_type": "stream",
     "text": [
      "Укажите число:  2\n"
     ]
    },
    {
     "name": "stdout",
     "output_type": "stream",
     "text": [
      "['Задача: купить хлеб Категория: купитьДата: сегодня', 'Задача: купить масло Категория: купитьДата: завтра']\n",
      "Простой todo: \n",
      "    1. Добавить задачу.\n",
      "    2. Вывести список задач.\n",
      "    3. Выход.\n"
     ]
    },
    {
     "name": "stdin",
     "output_type": "stream",
     "text": [
      "Укажите число:  3\n"
     ]
    }
   ],
   "source": [
    "print('''Простой todo: \n",
    "    1. Добавить задачу.\n",
    "    2. Вывести список задач.\n",
    "    3. Выход.''')\n",
    "x = int(input(\"Укажите число: \"))\n",
    "y = []\n",
    "while x != 3:\n",
    "    if x == 1:\n",
    "        task = \"Задача: \" + input(\"Сформулируйте задачу: \\n\") + \" Категория: \" + input(\"Добавьте категорию к задаче: \\n\") + \"Дата: \" + input(\"Добавьте время к задаче: \\n\")\n",
    "        y.append(task)\n",
    "    if x == 2:\n",
    "        print(y)\n",
    "    print('''Простой todo: \n",
    "    1. Добавить задачу.\n",
    "    2. Вывести список задач.\n",
    "    3. Выход.''')\n",
    "    x = int(input(\"Укажите число: \"))"
   ]
  },
  {
   "cell_type": "code",
   "execution_count": null,
   "metadata": {},
   "outputs": [],
   "source": []
  }
 ],
 "metadata": {
  "kernelspec": {
   "display_name": "Python 3",
   "language": "python",
   "name": "python3"
  },
  "language_info": {
   "codemirror_mode": {
    "name": "ipython",
    "version": 3
   },
   "file_extension": ".py",
   "mimetype": "text/x-python",
   "name": "python",
   "nbconvert_exporter": "python",
   "pygments_lexer": "ipython3",
   "version": "3.7.4"
  }
 },
 "nbformat": 4,
 "nbformat_minor": 4
}

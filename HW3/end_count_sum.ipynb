{
 "cells": [
  {
   "cell_type": "code",
   "execution_count": 4,
   "metadata": {},
   "outputs": [
    {
     "name": "stdin",
     "output_type": "stream",
     "text": [
      "Введите число или cтоп для выхода:  345\n",
      "Введите число или cтоп для выхода:  90\n",
      "Введите число или cтоп для выхода:  65\n",
      "Введите число или cтоп для выхода:  стоп\n"
     ]
    },
    {
     "name": "stdout",
     "output_type": "stream",
     "text": [
      "500\n"
     ]
    }
   ],
   "source": [
    "x = 0\n",
    "while True:\n",
    "    y = input('Введите число или cтоп для выхода: ')\n",
    "    if not y.isdigit():\n",
    "        if y == 'стоп' or 'Стоп':\n",
    "            print (x)\n",
    "            break\n",
    "        else:\n",
    "            print ('Ошибка ввода!')\n",
    "    else:\n",
    "        x += int(y)"
   ]
  },
  {
   "cell_type": "code",
   "execution_count": null,
   "metadata": {},
   "outputs": [],
   "source": []
  }
 ],
 "metadata": {
  "kernelspec": {
   "display_name": "Python 3",
   "language": "python",
   "name": "python3"
  },
  "language_info": {
   "codemirror_mode": {
    "name": "ipython",
    "version": 3
   },
   "file_extension": ".py",
   "mimetype": "text/x-python",
   "name": "python",
   "nbconvert_exporter": "python",
   "pygments_lexer": "ipython3",
   "version": "3.7.4"
  }
 },
 "nbformat": 4,
 "nbformat_minor": 4
}

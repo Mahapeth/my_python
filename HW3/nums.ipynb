{
 "cells": [
  {
   "cell_type": "code",
   "execution_count": 2,
   "metadata": {},
   "outputs": [
    {
     "name": "stdout",
     "output_type": "stream",
     "text": [
      "Числа:  [3.1604, 3.162, 3.1459, 1706, 1737] Количество чисел:  5 Сумма чисел:  3452.4683 Самое большое число:  1737\n"
     ]
    }
   ],
   "source": [
    "text= '''В разные эпохи и у разных народов число Пи имело разное значение.\n",
    "Например, в Древнем Египте оно равнялось 3.1604 у индусов оно приобрело\n",
    "значение 3.162 китайцы пользовались числом, равным 3.1459\n",
    "Буквенное обозначение число Пи получило только в 1706 году – оно происходит\n",
    "от начальных букв двух греческих слов, означающих окружность и периметр.\n",
    "Буквой π число наделил математик Джонс, а прочно вошла в математику она\n",
    "уже в 1737 году.'''\n",
    "\n",
    "def num(x):\n",
    "    try:\n",
    "        float(x)\n",
    "        return True\n",
    "    except ValueError:\n",
    "        return False\n",
    "spisok = []\n",
    "h = 0\n",
    "m = 0\n",
    "for i in text.split():\n",
    "    if i.isdigit():\n",
    "        spisok.append(int(i))\n",
    "        h += 1\n",
    "        m += int(i)\n",
    "    elif num(i):\n",
    "        spisok.append(float(i))\n",
    "        h += 1\n",
    "        m += float(i)\n",
    "print('Числа: ', spisok ,'Количество чисел: ', h, 'Сумма чисел: ', m, 'Самое большое число: ', max(spisok))"
   ]
  },
  {
   "cell_type": "code",
   "execution_count": null,
   "metadata": {},
   "outputs": [],
   "source": []
  }
 ],
 "metadata": {
  "kernelspec": {
   "display_name": "Python 3",
   "language": "python",
   "name": "python3"
  },
  "language_info": {
   "codemirror_mode": {
    "name": "ipython",
    "version": 3
   },
   "file_extension": ".py",
   "mimetype": "text/x-python",
   "name": "python",
   "nbconvert_exporter": "python",
   "pygments_lexer": "ipython3",
   "version": "3.7.4"
  }
 },
 "nbformat": 4,
 "nbformat_minor": 4
}

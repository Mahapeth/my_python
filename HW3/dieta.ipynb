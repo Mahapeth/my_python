{
 "cells": [
  {
   "cell_type": "code",
   "execution_count": 11,
   "metadata": {},
   "outputs": [
    {
     "name": "stdin",
     "output_type": "stream",
     "text": [
      "Введите свой вес(кг):  55\n"
     ]
    },
    {
     "name": "stdout",
     "output_type": "stream",
     "text": [
      "['1месяц: 53.5', '2месяц: 52.0', '3месяц: 50.5', '4месяц: 49.0', '5месяц: 47.5', '6месяц: 46.0']\n"
     ]
    }
   ],
   "source": [
    "ves=float(input('Введите свой вес(кг): '))\n",
    "currentves=ves\n",
    "stves=[]\n",
    "for i in range(1,7):\n",
    "    currentves=currentves-1.5\n",
    "    stves.append(str(i)+ \"месяц: \" +str(currentves))\n",
    "print(stves)"
   ]
  },
  {
   "cell_type": "code",
   "execution_count": null,
   "metadata": {},
   "outputs": [],
   "source": []
  }
 ],
 "metadata": {
  "kernelspec": {
   "display_name": "Python 3",
   "language": "python",
   "name": "python3"
  },
  "language_info": {
   "codemirror_mode": {
    "name": "ipython",
    "version": 3
   },
   "file_extension": ".py",
   "mimetype": "text/x-python",
   "name": "python",
   "nbconvert_exporter": "python",
   "pygments_lexer": "ipython3",
   "version": "3.7.4"
  }
 },
 "nbformat": 4,
 "nbformat_minor": 4
}
